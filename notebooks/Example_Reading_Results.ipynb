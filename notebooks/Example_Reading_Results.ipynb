{
 "cells": [
  {
   "cell_type": "code",
   "execution_count": null,
   "metadata": {},
   "outputs": [
    {
     "ename": "",
     "evalue": "",
     "output_type": "error",
     "traceback": [
      "\u001b[1;31mFailed to start the Kernel. \n",
      "\u001b[1;31mKernel swift-bat (Python 3.9.6) is not usable. Check the Jupyter output tab for more information. \n",
      "\u001b[1;31mView Jupyter <a href='command:jupyter.viewOutput'>log</a> for further details."
     ]
    }
   ],
   "source": [
    "import numpy as np\n",
    "from astropy.io import fits\n",
    "from astropy.table import Table, vstack\n",
    "from astropy.wcs import WCS\n",
    "import os\n",
    "import time\n",
    "import matplotlib.pyplot as plt\n",
    "from matplotlib.colors import LogNorm\n",
    "from matplotlib import cm\n",
    "import pandas as pd\n",
    "pd.options.display.max_columns = 250\n",
    "pd.options.display.max_rows = 250\n",
    "import healpy as hp\n",
    "from copy import copy, deepcopy\n",
    "import logging, traceback\n",
    "import sys\n",
    "logging.basicConfig(stream=sys.stdout, level=logging.DEBUG)"
   ]
  },
  {
   "cell_type": "code",
   "execution_count": null,
   "metadata": {},
   "outputs": [
    {
     "ename": "",
     "evalue": "",
     "output_type": "error",
     "traceback": [
      "\u001b[1;31mFailed to start the Kernel. \n",
      "\u001b[1;31mKernel swift-bat (Python 3.9.6) is not usable. Check the Jupyter output tab for more information. \n",
      "\u001b[1;31mView Jupyter <a href='command:jupyter.viewOutput'>log</a> for further details."
     ]
    }
   ],
   "source": [
    "# cd to code directory\n",
    "#%cd /Users/tparsota/Documents/BAT_SCRIPTS/NITRATES/NITRATES_GIT/NITRATES \n",
    "#/storage/work/j/jjd330/local/bat_data/BatML"
   ]
  },
  {
   "cell_type": "code",
   "execution_count": null,
   "metadata": {},
   "outputs": [
    {
     "ename": "",
     "evalue": "",
     "output_type": "error",
     "traceback": [
      "\u001b[1;31mFailed to start the Kernel. \n",
      "\u001b[1;31mKernel swift-bat (Python 3.9.6) is not usable. Check the Jupyter output tab for more information. \n",
      "\u001b[1;31mView Jupyter <a href='command:jupyter.viewOutput'>log</a> for further details."
     ]
    }
   ],
   "source": [
    "#from event2dpi_funcs import det2dpis, mask_detxy\n",
    "#from flux_models import Cutoff_Plaw_Flux, Plaw_Flux, get_eflux_from_model\n",
    "#from sqlite_funcs import get_conn\n",
    "#from dbread_funcs import get_info_tab\n",
    "#from do_manage2 import im_dist, get_rate_res_fnames, get_peak_res_fnames, get_out_res_fnames,\\\n",
    "#                    get_merged_csv_df, get_merged_csv_df_wpos\n",
    "#from hp_funcs import ang_sep\n",
    "#from coord_conv_funcs import theta_phi2imxy, imxy2theta_phi, convert_imxy2radec,\\\n",
    "#                            convert_radec2thetaphi, convert_radec2imxy\n",
    "#from do_llh_inFoV4realtime2 import parse_bkg_csv\n",
    "#from LLH import LLH_webins\n",
    "#from minimizers import NLLH_ScipyMinimize_Wjacob\n",
    "\n",
    "\n",
    "os.environ['NITRATES_RESP_DIR'] = '/Volumes/WD/Development/Programming/NITRATES_RESP_DIR_PIP/'\n",
    "import nitrates\n",
    "from nitrates.config import rt_dir, solid_angle_dpi_fname\n",
    "from nitrates.lib import get_conn, det2dpi, mask_detxy, get_info_tab, get_twinds_tab, ang_sep, theta_phi2imxy, \\\n",
    "    imxy2theta_phi, convert_imxy2radec, convert_radec2thetaphi, convert_radec2imxy\n",
    "from nitrates.response import RayTraces\n",
    "from nitrates.models import Cutoff_Plaw_Flux, Plaw_Flux, get_eflux_from_model\n",
    "from nitrates.llh_analysis import parse_bkg_csv, LLH_webins, NLLH_ScipyMinimize_Wjacob, get_out_res_fnames\n",
    "from nitrates.llh_analysis import im_dist, get_rate_res_fnames, get_peak_res_fnames, \\\n",
    "    get_merged_csv_df, get_merged_csv_df_wpos\n",
    "print(nitrates.config.NITRATES_RESP_DIR)\n"
   ]
  },
  {
   "cell_type": "code",
   "execution_count": null,
   "metadata": {},
   "outputs": [
    {
     "ename": "",
     "evalue": "",
     "output_type": "error",
     "traceback": [
      "\u001b[1;31mFailed to start the Kernel. \n",
      "\u001b[1;31mKernel swift-bat (Python 3.9.6) is not usable. Check the Jupyter output tab for more information. \n",
      "\u001b[1;31mView Jupyter <a href='command:jupyter.viewOutput'>log</a> for further details."
     ]
    }
   ],
   "source": [
    "ebins0 = np.array([15.0, 24.0, 35.0, 48.0, 64.0])\n",
    "ebins0 = np.append(ebins0, np.logspace(np.log10(84.0), np.log10(500.0), 5+1))[:-1]\n",
    "ebins0 = np.round(ebins0, decimals=1)[:-1]\n",
    "ebins1 = np.append(ebins0[1:], [350.0])\n",
    "nebins = len(ebins0)\n",
    "print(\"Number of ebins: \", nebins)\n",
    "\n",
    "\n",
    "# directory with results\n",
    "#work_dir = '/Users/tparsota/Documents/BAT_SCRIPTS/NITRATES/F646018360/'\n",
    "#'/storage/work/j/jjd330/local/bat_data/realtime_workdir/F646018360/'\n",
    "\n",
    "NITRATES_path=nitrates.config.NITRATES_RESP_DIR\n",
    "work_dir = os.path.join(NITRATES_path, 'F646018360')\n",
    "conn = get_conn(os.path.join(work_dir,'results.db'))\n",
    "info_tab = get_info_tab(conn)\n",
    "# trigger time stored in results.db (sqlite DB)\n",
    "# not much else stored there (results used to be stored there but not anymore)\n",
    "trigger_time = info_tab['trigtimeMET'][0]\n",
    "print(\"trigger time: \", trigger_time)\n",
    "\n",
    "# default file names made by do_data_setup.py\n",
    "evfname = os.path.join(work_dir,'filter_evdata.fits')\n",
    "ev_data = fits.open(evfname)[1].data\n",
    "# GTI extensions added to event fits file by do_data_setup.py\n",
    "GTI_PNT = Table.read(evfname, hdu='GTI_POINTING') # when the analysis can be run (good data time and pointing)\n",
    "GTI_SLEW = Table.read(evfname, hdu='GTI_SLEW') # slewing times\n",
    "# the final set of detectors to mask (disabled dets, hot/cold dets, and dets with glitches)  \n",
    "dmask = fits.open(os.path.join(work_dir,'detmask.fits'))[0].data\n",
    "attfile = fits.open(os.path.join(work_dir,'attitude.fits'))[1].data\n",
    "\n",
    "# number of detectors being used\n",
    "ndets = np.sum(dmask==0)\n",
    "print (\"Ndets: \", np.sum(dmask==0))\n",
    "\n",
    "t_end = trigger_time + 1e3\n",
    "t_start = trigger_time - 1e3\n",
    "mask_vals = mask_detxy(dmask, ev_data)\n",
    "bl_dmask = (dmask==0.)\n",
    "\n",
    "# get rid of events:\n",
    "# far away from trigger time\n",
    "# from bad dets\n",
    "# with bad event flags\n",
    "bl_ev = (ev_data['EVENT_FLAGS']<1)&\\\n",
    "        (ev_data['ENERGY']<=500.)&(ev_data['ENERGY']>=14.)&\\\n",
    "        (mask_vals==0.)&(ev_data['TIME']<=t_end)&\\\n",
    "        (ev_data['TIME']>=t_start)\n",
    "\n",
    "print(\"Number of events passing cuts: \", np.sum(bl_ev))\n",
    "ev_data0 = ev_data[bl_ev]\n"
   ]
  },
  {
   "cell_type": "code",
   "execution_count": null,
   "metadata": {},
   "outputs": [
    {
     "ename": "",
     "evalue": "",
     "output_type": "error",
     "traceback": [
      "\u001b[1;31mFailed to start the Kernel. \n",
      "\u001b[1;31mKernel swift-bat (Python 3.9.6) is not usable. Check the Jupyter output tab for more information. \n",
      "\u001b[1;31mView Jupyter <a href='command:jupyter.viewOutput'>log</a> for further details."
     ]
    }
   ],
   "source": [
    "print (GTI_PNT)\n",
    "print()\n",
    "for row in GTI_PNT:\n",
    "    print (row['START'] - trigger_time, row['STOP'] - trigger_time)\n"
   ]
  },
  {
   "cell_type": "code",
   "execution_count": null,
   "metadata": {},
   "outputs": [
    {
     "ename": "",
     "evalue": "",
     "output_type": "error",
     "traceback": [
      "\u001b[1;31mFailed to start the Kernel. \n",
      "\u001b[1;31mKernel swift-bat (Python 3.9.6) is not usable. Check the Jupyter output tab for more information. \n",
      "\u001b[1;31mView Jupyter <a href='command:jupyter.viewOutput'>log</a> for further details."
     ]
    }
   ],
   "source": [
    "bkg_fname = os.path.join(work_dir,'bkg_estimation.csv')\n",
    "bkg_df = pd.read_csv(bkg_fname)\n"
   ]
  },
  {
   "cell_type": "code",
   "execution_count": null,
   "metadata": {},
   "outputs": [
    {
     "ename": "",
     "evalue": "",
     "output_type": "error",
     "traceback": [
      "\u001b[1;31mFailed to start the Kernel. \n",
      "\u001b[1;31mKernel swift-bat (Python 3.9.6) is not usable. Check the Jupyter output tab for more information. \n",
      "\u001b[1;31mView Jupyter <a href='command:jupyter.viewOutput'>log</a> for further details."
     ]
    }
   ],
   "source": [
    "bkg_df.head()\n"
   ]
  },
  {
   "cell_type": "code",
   "execution_count": null,
   "metadata": {},
   "outputs": [
    {
     "ename": "",
     "evalue": "",
     "output_type": "error",
     "traceback": [
      "\u001b[1;31mFailed to start the Kernel. \n",
      "\u001b[1;31mKernel swift-bat (Python 3.9.6) is not usable. Check the Jupyter output tab for more information. \n",
      "\u001b[1;31mView Jupyter <a href='command:jupyter.viewOutput'>log</a> for further details."
     ]
    }
   ],
   "source": [
    "# plotting the rate per detector in each energy bin for the diffuse models\n",
    "nr = 3\n",
    "nc = 3\n",
    "nplt = 1\n",
    "fig = plt.figure(dpi=80, figsize=(14,6))\n",
    "for j in range(9):\n",
    "    ax = fig.add_subplot(nr,nc,nplt)\n",
    "    nplt+=1\n",
    "    try:\n",
    "        rate_name = 'bkg_rate_' + str(j)\n",
    "        rate = bkg_df[rate_name]\n",
    "    except:\n",
    "        rate_name = 'Background_bkg_rate_' + str(j)\n",
    "        rate = bkg_df[rate_name]\n",
    "    err0 = rate - bkg_df['err_'+rate_name]\n",
    "    err1 = rate + bkg_df['err_'+rate_name]\n",
    "    plt.fill_between(bkg_df['dt'], err0, err1, alpha=.5)\n",
    "    plt.plot(bkg_df['dt'], rate, 'o--')\n",
    "    plt.grid(True)\n"
   ]
  },
  {
   "cell_type": "code",
   "execution_count": null,
   "metadata": {},
   "outputs": [
    {
     "ename": "",
     "evalue": "",
     "output_type": "error",
     "traceback": [
      "\u001b[1;31mFailed to start the Kernel. \n",
      "\u001b[1;31mKernel swift-bat (Python 3.9.6) is not usable. Check the Jupyter output tab for more information. \n",
      "\u001b[1;31mView Jupyter <a href='command:jupyter.viewOutput'>log</a> for further details."
     ]
    }
   ],
   "source": [
    "# plotting time hist of event data\n",
    "tbins = np.arange(-40*1.024, 40*1.024, 0.064*4*4*1) # tbins with multiples of 64ms (64ms * 4 * 4 = 1.024s)\n",
    "dt = tbins[1] - tbins[0]\n",
    "tax = (tbins[1:] + tbins[:-1])/2.\n",
    "ntbins = len(tax)\n",
    "# choosing which tbins to estimate a flat bkg from for the plot\n",
    "# bkg_bl = (np.abs(tax)>8.0)\n",
    "bkg_bl = ((tax)<-10.0)&(tax>-40.0)\n",
    "\n",
    "nc = 1\n",
    "nr = 1\n",
    "nplt = 1\n",
    "\n",
    "fig = plt.figure(dpi=100, figsize=(8,3*nr))\n",
    "ax = fig.add_subplot(nr,nc,nplt)\n",
    "nplt += 1\n",
    "\n",
    "h=plt.hist(ev_data0['TIME'] - trigger_time, bins=tbins,\\\n",
    "           histtype='step', label='data')[0]\n",
    "\n",
    "bkg_mean = np.mean(h[bkg_bl])\n",
    "bkg_std = np.std(h[bkg_bl])\n",
    "\n",
    "print(\"time with min counts, max counts\")\n",
    "print (tbins[np.argmin(h)], tbins[np.argmax(h)])\n",
    "print(\"counts at min time, max time\")\n",
    "print(np.min(h), np.max(h))\n",
    "print(\"bkg mean, bkg std\")\n",
    "print(bkg_mean, bkg_std)\n",
    "\n",
    "plt.axhline(bkg_mean)\n",
    "plt.grid(True)\n",
    "plt.xlim(-22, 26)\n",
    "# plt.xlim(-4, 4.)\n",
    "plt.ylim(np.around(.95*np.min(h[(h>0)]), decimals=-1),\\\n",
    "         np.round(1.01*np.max(h), decimals=-1))\n",
    "plt.xlabel('t - trig_time (s)')\n",
    "plt.ylabel('Counts 15-350 keV')\n",
    "plt.legend(loc='lower left')"
   ]
  },
  {
   "cell_type": "code",
   "execution_count": null,
   "metadata": {},
   "outputs": [
    {
     "ename": "",
     "evalue": "",
     "output_type": "error",
     "traceback": [
      "\u001b[1;31mFailed to start the Kernel. \n",
      "\u001b[1;31mKernel swift-bat (Python 3.9.6) is not usable. Check the Jupyter output tab for more information. \n",
      "\u001b[1;31mView Jupyter <a href='command:jupyter.viewOutput'>log</a> for further details."
     ]
    }
   ],
   "source": [
    "# plotting time hist with same bins as last cell but for each Ebin\n",
    "nc = 1\n",
    "nr = nebins\n",
    "nplt = 1\n",
    "fig = plt.figure(dpi=100, figsize=(8,3.5*nr))\n",
    "\n",
    "for ei in range(nebins):\n",
    "    ax = fig.add_subplot(nr,nc,nplt)\n",
    "    nplt += 1\n",
    "    ebl = (ev_data0['ENERGY']>=ebins0[ei])&\\\n",
    "            (ev_data0['ENERGY']<ebins1[ei])\n",
    "    h=plt.hist(ev_data0[ebl]['TIME'] - trigger_time, bins=tbins,\\\n",
    "               histtype='step')[0]\n",
    "    bkg_mean = np.mean(h[bkg_bl])\n",
    "    bkg_std = np.std(h[bkg_bl])\n",
    "    ttl = '%.1f - %.1f keV' %(ebins0[ei],ebins1[ei])\n",
    "    print(ttl)\n",
    "    print(\"time with min counts, max counts\")\n",
    "    print (tbins[np.argmin(h)], tbins[np.argmax(h)])\n",
    "    print(\"counts at min time, max time\")\n",
    "    print(np.min(h), np.max(h))\n",
    "    print(\"bkg mean, bkg std\")\n",
    "    print(bkg_mean, bkg_std)\n",
    "    print\n",
    "    plt.axhline(bkg_mean)\n",
    "    plt.title(ttl)\n",
    "    plt.grid(True)\n",
    "#     plt.xlim(-2, 2)\n",
    "    plt.xlim(-22, 26)\n",
    "    plt.ylim(np.around(.9*np.min(h[(h>0)]), decimals=-1),\\\n",
    "             np.round(1.1*np.max(h), decimals=-1))"
   ]
  },
  {
   "cell_type": "code",
   "execution_count": null,
   "metadata": {},
   "outputs": [
    {
     "ename": "",
     "evalue": "",
     "output_type": "error",
     "traceback": [
      "\u001b[1;31mFailed to start the Kernel. \n",
      "\u001b[1;31mKernel swift-bat (Python 3.9.6) is not usable. Check the Jupyter output tab for more information. \n",
      "\u001b[1;31mView Jupyter <a href='command:jupyter.viewOutput'>log</a> for further details."
     ]
    }
   ],
   "source": [
    "# getting attitude information at trigger time\n",
    "att_ind = np.argmin(np.abs(attfile['TIME'] - trigger_time))\n",
    "att_quat = attfile['QPARAM'][att_ind]\n",
    "print(\"QUATERNION: \", att_quat)\n",
    "pnt_ra, pnt_dec = attfile['POINTING'][att_ind,:2]\n",
    "print(\"Pointing RA, Dec\")\n",
    "print(pnt_ra, pnt_dec)\n",
    "plt.plot(attfile['TIME']-trigger_time, attfile['POINTING'], 'o')\n",
    "plt.grid(True)\n",
    "plt.xlim(-50,150)\n",
    "plt.legend(['ra','dec','roll'])"
   ]
  },
  {
   "cell_type": "code",
   "execution_count": null,
   "metadata": {},
   "outputs": [
    {
     "ename": "",
     "evalue": "",
     "output_type": "error",
     "traceback": [
      "\u001b[1;31mFailed to start the Kernel. \n",
      "\u001b[1;31mKernel swift-bat (Python 3.9.6) is not usable. Check the Jupyter output tab for more information. \n",
      "\u001b[1;31mView Jupyter <a href='command:jupyter.viewOutput'>log</a> for further details."
     ]
    }
   ],
   "source": [
    "# if you have some ra, dec of interest (like a gbm localization or something)\n",
    "# here's how to do conversions into detector coordinates (theta, phi) and (imx, imy)\n",
    "ra_interest, dec_interest = 233.117, -26.213\n",
    "print(\"RA of interest, Dec of interest\")\n",
    "print(ra_interest, dec_interest)\n",
    "theta_interest, phi_interest = convert_radec2thetaphi(ra_interest, dec_interest, att_quat)\n",
    "print(\"theta, phi\")\n",
    "print (theta_interest, phi_interest)\n",
    "# imx, imy only valid at theta < 90 deg\n",
    "imx_interest, imy_interest = convert_radec2imxy(ra_interest, dec_interest, att_quat)\n",
    "print(\"imx, imy\")\n",
    "print (imx_interest, imy_interest)"
   ]
  },
  {
   "cell_type": "code",
   "execution_count": null,
   "metadata": {},
   "outputs": [
    {
     "ename": "",
     "evalue": "",
     "output_type": "error",
     "traceback": [
      "\u001b[1;31mFailed to start the Kernel. \n",
      "\u001b[1;31mKernel swift-bat (Python 3.9.6) is not usable. Check the Jupyter output tab for more information. \n",
      "\u001b[1;31mView Jupyter <a href='command:jupyter.viewOutput'>log</a> for further details."
     ]
    }
   ],
   "source": [
    "#%%time\n",
    "# getting split rate analysis results\n",
    "\n",
    "# get the file names\n",
    "res_rate_fnames = get_rate_res_fnames(work_dir)\n",
    "print(\"%d split rate result files\"%(len(res_rate_fnames)))\n",
    "# read files and merge into one Pandas Dataframe\n",
    "res_rate_tab = get_merged_csv_df(res_rate_fnames, work_dir, ignore_index=True)\n",
    "print(\"Merged split rate results table has %d rows\"%(len(res_rate_tab)))\n",
    "res_rate_tab['dt'] = res_rate_tab['time'] - trigger_time"
   ]
  },
  {
   "cell_type": "code",
   "execution_count": null,
   "metadata": {
    "scrolled": true
   },
   "outputs": [
    {
     "ename": "",
     "evalue": "",
     "output_type": "error",
     "traceback": [
      "\u001b[1;31mFailed to start the Kernel. \n",
      "\u001b[1;31mKernel swift-bat (Python 3.9.6) is not usable. Check the Jupyter output tab for more information. \n",
      "\u001b[1;31mView Jupyter <a href='command:jupyter.viewOutput'>log</a> for further details."
     ]
    }
   ],
   "source": [
    "res_rate_tab.sort_values('TS', ascending=False).head(64)"
   ]
  },
  {
   "cell_type": "code",
   "execution_count": null,
   "metadata": {},
   "outputs": [
    {
     "ename": "",
     "evalue": "",
     "output_type": "error",
     "traceback": [
      "\u001b[1;31mFailed to start the Kernel. \n",
      "\u001b[1;31mKernel swift-bat (Python 3.9.6) is not usable. Check the Jupyter output tab for more information. \n",
      "\u001b[1;31mView Jupyter <a href='command:jupyter.viewOutput'>log</a> for further details."
     ]
    }
   ],
   "source": [
    "#%%time\n",
    "# getting out of FoV analysis results\n",
    "\n",
    "res_out_fnames = get_out_res_fnames(work_dir)\n",
    "print(\"%d out of FoV result files\"%(len(res_out_fnames)))\n",
    "\n",
    "res_out_tab = get_merged_csv_df_wpos(res_out_fnames, attfile, direc=work_dir, ignore_index=True)\n",
    "print(\"Merged out of FoV results table has %d rows\"%(len(res_out_tab)))\n",
    "res_out_tab['dt'] = res_out_tab['time'] - trigger_time"
   ]
  },
  {
   "cell_type": "code",
   "execution_count": null,
   "metadata": {},
   "outputs": [
    {
     "ename": "",
     "evalue": "",
     "output_type": "error",
     "traceback": [
      "\u001b[1;31mFailed to start the Kernel. \n",
      "\u001b[1;31mKernel swift-bat (Python 3.9.6) is not usable. Check the Jupyter output tab for more information. \n",
      "\u001b[1;31mView Jupyter <a href='command:jupyter.viewOutput'>log</a> for further details."
     ]
    }
   ],
   "source": [
    "#%%time\n",
    "# getting in FoV analysis results\n",
    "\n",
    "res_peak_fnames = get_peak_res_fnames(work_dir)\n",
    "print(\"%d in FoV peaks result files\"%(len(res_peak_fnames)))\n",
    "# read files and merge in single dataframe, also convert detector coords into RA, Dec\n",
    "res_peak_tab = get_merged_csv_df_wpos(res_peak_fnames, attfile, direc=work_dir, ignore_index=True)\n",
    "print(\"Merged in FoV peaks results table has %d rows\"%(len(res_peak_tab)))\n",
    "res_peak_tab['dt'] = res_peak_tab['time'] - trigger_time"
   ]
  },
  {
   "cell_type": "code",
   "execution_count": null,
   "metadata": {},
   "outputs": [
    {
     "ename": "",
     "evalue": "",
     "output_type": "error",
     "traceback": [
      "\u001b[1;31mFailed to start the Kernel. \n",
      "\u001b[1;31mKernel swift-bat (Python 3.9.6) is not usable. Check the Jupyter output tab for more information. \n",
      "\u001b[1;31mView Jupyter <a href='command:jupyter.viewOutput'>log</a> for further details."
     ]
    }
   ],
   "source": [
    "# getting the max TS for each square/time seed combo\n",
    "idx = res_peak_tab.groupby(['squareID','timeID'])['TS'].transform(max) == res_peak_tab['TS']\n",
    "res_peak_maxSq_tab = res_peak_tab[idx]\n",
    "print(len(res_peak_maxSq_tab))"
   ]
  },
  {
   "cell_type": "code",
   "execution_count": null,
   "metadata": {},
   "outputs": [
    {
     "ename": "",
     "evalue": "",
     "output_type": "error",
     "traceback": [
      "\u001b[1;31mFailed to start the Kernel. \n",
      "\u001b[1;31mKernel swift-bat (Python 3.9.6) is not usable. Check the Jupyter output tab for more information. \n",
      "\u001b[1;31mView Jupyter <a href='command:jupyter.viewOutput'>log</a> for further details."
     ]
    }
   ],
   "source": [
    "# initing flux model to calculate flux/fluences\n",
    "flux_params = {'A':1.0, 'gamma':0.5, 'Epeak':1e2}\n",
    "flux_mod = Cutoff_Plaw_Flux(E0=100.0)"
   ]
  },
  {
   "cell_type": "code",
   "execution_count": null,
   "metadata": {},
   "outputs": [
    {
     "ename": "",
     "evalue": "",
     "output_type": "error",
     "traceback": [
      "\u001b[1;31mFailed to start the Kernel. \n",
      "\u001b[1;31mKernel swift-bat (Python 3.9.6) is not usable. Check the Jupyter output tab for more information. \n",
      "\u001b[1;31mView Jupyter <a href='command:jupyter.viewOutput'>log</a> for further details."
     ]
    }
   ],
   "source": [
    "#%%time\n",
    "# calculating fluence for each row based on the best fit spectral parameters \n",
    "fluncs = np.zeros(len(res_peak_maxSq_tab))\n",
    "flux_pars = {'A':1.0, 'Epeak':1e2, 'gamma':0.5}\n",
    "i = 0\n",
    "for ind, row in res_peak_maxSq_tab.iterrows():\n",
    "    flux_pars['A'] = row['A']\n",
    "    flux_pars['gamma'] = row['gamma']\n",
    "    flux_pars['Epeak'] = row['Epeak']\n",
    "    fluncs[i] = get_eflux_from_model(flux_mod, flux_pars, 1e1, 1e3)*row['dur'] # fluence from 10keV to 1MeV\n",
    "    i+=1\n",
    "#     res_peak_maxSq_tab.loc[ind]['fluence'] = get_eflux_from_model(flux_mod, flux_pars, 1e1, 1e3)*row['dur']\n",
    "res_peak_maxSq_tab['fluence'] = fluncs"
   ]
  },
  {
   "cell_type": "code",
   "execution_count": null,
   "metadata": {},
   "outputs": [
    {
     "ename": "",
     "evalue": "",
     "output_type": "error",
     "traceback": [
      "\u001b[1;31mFailed to start the Kernel. \n",
      "\u001b[1;31mKernel swift-bat (Python 3.9.6) is not usable. Check the Jupyter output tab for more information. \n",
      "\u001b[1;31mView Jupyter <a href='command:jupyter.viewOutput'>log</a> for further details."
     ]
    }
   ],
   "source": [
    "# max TS peak result\n",
    "print (np.max(res_peak_maxSq_tab['TS']))\n",
    "idx = res_peak_maxSq_tab['TS'].idxmax()\n",
    "row = res_peak_maxSq_tab.loc[idx]\n",
    "max_TS_timeID = row['timeID']\n",
    "row"
   ]
  },
  {
   "cell_type": "code",
   "execution_count": null,
   "metadata": {
    "scrolled": true
   },
   "outputs": [
    {
     "ename": "",
     "evalue": "",
     "output_type": "error",
     "traceback": [
      "\u001b[1;31mFailed to start the Kernel. \n",
      "\u001b[1;31mKernel swift-bat (Python 3.9.6) is not usable. Check the Jupyter output tab for more information. \n",
      "\u001b[1;31mView Jupyter <a href='command:jupyter.viewOutput'>log</a> for further details."
     ]
    }
   ],
   "source": [
    "res_peak_maxSq_tab.sort_values('TS', ascending=False).head(64)"
   ]
  },
  {
   "cell_type": "code",
   "execution_count": null,
   "metadata": {},
   "outputs": [
    {
     "ename": "",
     "evalue": "",
     "output_type": "error",
     "traceback": [
      "\u001b[1;31mFailed to start the Kernel. \n",
      "\u001b[1;31mKernel swift-bat (Python 3.9.6) is not usable. Check the Jupyter output tab for more information. \n",
      "\u001b[1;31mView Jupyter <a href='command:jupyter.viewOutput'>log</a> for further details."
     ]
    }
   ],
   "source": [
    "# max TS out result\n",
    "print (np.max(res_out_tab['TS']))\n",
    "idx = res_out_tab['TS'].idxmax()\n",
    "row = res_out_tab.loc[idx]\n",
    "max_TSout_timeID = row['timeID']\n",
    "row"
   ]
  },
  {
   "cell_type": "code",
   "execution_count": null,
   "metadata": {
    "scrolled": true
   },
   "outputs": [
    {
     "ename": "",
     "evalue": "",
     "output_type": "error",
     "traceback": [
      "\u001b[1;31mFailed to start the Kernel. \n",
      "\u001b[1;31mKernel swift-bat (Python 3.9.6) is not usable. Check the Jupyter output tab for more information. \n",
      "\u001b[1;31mView Jupyter <a href='command:jupyter.viewOutput'>log</a> for further details."
     ]
    }
   ],
   "source": [
    "res_out_tab.sort_values('TS', ascending=False).head(64)"
   ]
  },
  {
   "cell_type": "code",
   "execution_count": null,
   "metadata": {},
   "outputs": [
    {
     "ename": "",
     "evalue": "",
     "output_type": "error",
     "traceback": [
      "\u001b[1;31mFailed to start the Kernel. \n",
      "\u001b[1;31mKernel swift-bat (Python 3.9.6) is not usable. Check the Jupyter output tab for more information. \n",
      "\u001b[1;31mView Jupyter <a href='command:jupyter.viewOutput'>log</a> for further details."
     ]
    }
   ],
   "source": [
    "# get best out of FoV result for each healpix pixel for a certrain time bin\n",
    "bl = np.isclose(res_out_tab['timeID'],max_TSout_timeID)\n",
    "idx = res_out_tab[bl].groupby(['hp_ind'])['TS'].transform(max) == res_out_tab[bl]['TS']\n",
    "res_hpmax_tab = res_out_tab[bl][idx]"
   ]
  },
  {
   "cell_type": "code",
   "execution_count": null,
   "metadata": {},
   "outputs": [
    {
     "ename": "",
     "evalue": "",
     "output_type": "error",
     "traceback": [
      "\u001b[1;31mFailed to start the Kernel. \n",
      "\u001b[1;31mKernel swift-bat (Python 3.9.6) is not usable. Check the Jupyter output tab for more information. \n",
      "\u001b[1;31mView Jupyter <a href='command:jupyter.viewOutput'>log</a> for further details."
     ]
    }
   ],
   "source": [
    "#%%time\n",
    "# get fluence for each row of res_hpmax_tab\n",
    "fluncs = np.zeros(len(res_hpmax_tab))\n",
    "flux_pars = {'A':1.0, 'Epeak':1e2, 'gamma':0.5}\n",
    "# for i in range(len(res_peak_maxSq_tab)):\n",
    "i = 0\n",
    "for ind, row in res_hpmax_tab.iterrows():\n",
    "    flux_pars['A'] = row['A']\n",
    "    flux_pars['gamma'] = row['gamma']\n",
    "    flux_pars['Epeak'] = row['Epeak']\n",
    "    fluncs[i] = get_eflux_from_model(flux_mod, flux_pars, 1e1, 1e3)*row['dur']\n",
    "    i+=1\n",
    "res_hpmax_tab['fluence'] = fluncs"
   ]
  },
  {
   "cell_type": "code",
   "execution_count": null,
   "metadata": {
    "scrolled": true
   },
   "outputs": [
    {
     "ename": "",
     "evalue": "",
     "output_type": "error",
     "traceback": [
      "\u001b[1;31mFailed to start the Kernel. \n",
      "\u001b[1;31mKernel swift-bat (Python 3.9.6) is not usable. Check the Jupyter output tab for more information. \n",
      "\u001b[1;31mView Jupyter <a href='command:jupyter.viewOutput'>log</a> for further details."
     ]
    }
   ],
   "source": [
    "res_hpmax_tab.sort_values('TS', ascending=False).head(64)"
   ]
  },
  {
   "cell_type": "code",
   "execution_count": null,
   "metadata": {},
   "outputs": [
    {
     "ename": "",
     "evalue": "",
     "output_type": "error",
     "traceback": [
      "\u001b[1;31mFailed to start the Kernel. \n",
      "\u001b[1;31mKernel swift-bat (Python 3.9.6) is not usable. Check the Jupyter output tab for more information. \n",
      "\u001b[1;31mView Jupyter <a href='command:jupyter.viewOutput'>log</a> for further details."
     ]
    }
   ],
   "source": [
    "def get_dlogl_peak_out(res_peak_tab, res_out_tab):\n",
    "    '''\n",
    "    returns DeltaLLH_peak and DeltaLLH_out for the time bin with the max TS\n",
    "    '''\n",
    "    \n",
    "    idx = res_peak_tab['TS'].idxmax()\n",
    "    row = res_peak_tab.loc[idx]\n",
    "    \n",
    "    timeID = row['timeID']\n",
    "    imdists = im_dist(row['imx'], row['imy'], res_peak_tab['imx'], res_peak_tab['imy'])\n",
    "    bld = (imdists>0.012)&(res_peak_tab['timeID']==timeID)\n",
    "    \n",
    "    dlogl_peak = np.nanmin(res_peak_tab[bld]['nllh']) - row['nllh']\n",
    "    \n",
    "    blo = (res_out_tab['timeID']==timeID)\n",
    "    \n",
    "    dlogl_out = np.nanmin(res_out_tab[blo]['nllh']) - row['nllh']\n",
    "    \n",
    "    return dlogl_peak, dlogl_out\n",
    "\n",
    "def get_dlogls_inout(res_tab, res_out_tab):\n",
    "    '''\n",
    "    returns DeltaLLH_peak, DeltaLLH_out, timeID for each time bin\n",
    "    '''\n",
    "    \n",
    "    dlogls = []\n",
    "    dlogls_in_out = []\n",
    "    timeIDs = []\n",
    "    for timeID, df in res_tab.groupby('timeID'):\n",
    "        idx = df['TS'].idxmax()\n",
    "        row = df.loc[idx]\n",
    "        imdists = im_dist(row['imx'], row['imy'], df['imx'], df['imy'])\n",
    "        bld = (imdists>0.012)\n",
    "        try:\n",
    "            dlogls.append(np.nanmin(df[bld]['nllh']) - row['nllh'])\n",
    "        except Exception as E:\n",
    "            print(E)\n",
    "            dlogls.append(np.nan)\n",
    "        blo = np.isclose(res_out_tab['timeID'],timeID,rtol=1e-9,atol=1e-3)\n",
    "        dlogls_in_out.append(np.nanmin(res_out_tab[blo]['nllh']) - row['nllh'])\n",
    "        timeIDs.append(timeID)\n",
    "    return dlogls, dlogls_in_out, timeIDs"
   ]
  },
  {
   "cell_type": "code",
   "execution_count": null,
   "metadata": {},
   "outputs": [
    {
     "ename": "",
     "evalue": "",
     "output_type": "error",
     "traceback": [
      "\u001b[1;31mFailed to start the Kernel. \n",
      "\u001b[1;31mKernel swift-bat (Python 3.9.6) is not usable. Check the Jupyter output tab for more information. \n",
      "\u001b[1;31mView Jupyter <a href='command:jupyter.viewOutput'>log</a> for further details."
     ]
    }
   ],
   "source": [
    "dlogl_peak, dlogl_out = get_dlogl_peak_out(res_peak_tab, res_out_tab)\n",
    "print(\"\\Delta LLH_peak = %.3f\"%(dlogl_peak))\n",
    "print(\"\\Delta LLH_out = %.3f\"%(dlogl_out))"
   ]
  },
  {
   "cell_type": "code",
   "execution_count": null,
   "metadata": {},
   "outputs": [
    {
     "ename": "",
     "evalue": "",
     "output_type": "error",
     "traceback": [
      "\u001b[1;31mFailed to start the Kernel. \n",
      "\u001b[1;31mKernel swift-bat (Python 3.9.6) is not usable. Check the Jupyter output tab for more information. \n",
      "\u001b[1;31mView Jupyter <a href='command:jupyter.viewOutput'>log</a> for further details."
     ]
    }
   ],
   "source": [
    "# %%time\n",
    "dlogls_peak, dlogls_out, list_timeIDs = get_dlogls_inout(res_peak_tab, res_out_tab)\n",
    "for i in range(len(list_timeIDs)):\n",
    "    print( \"timeID = %d\"%(list_timeIDs[i]))\n",
    "    print( \"\\Delta LLH_peak = %.3f\"%(dlogls_peak[i]))\n",
    "    print (\"\\Delta LLH_out = %.3f\"%(dlogls_out[i]))\n",
    "    print()"
   ]
  },
  {
   "cell_type": "code",
   "execution_count": null,
   "metadata": {},
   "outputs": [
    {
     "ename": "",
     "evalue": "",
     "output_type": "error",
     "traceback": [
      "\u001b[1;31mFailed to start the Kernel. \n",
      "\u001b[1;31mKernel swift-bat (Python 3.9.6) is not usable. Check the Jupyter output tab for more information. \n",
      "\u001b[1;31mView Jupyter <a href='command:jupyter.viewOutput'>log</a> for further details."
     ]
    }
   ],
   "source": []
  }
 ],
 "metadata": {
  "kernelspec": {
   "display_name": "Python 3.9.6 ('swift-bat': venv)",
   "language": "python",
   "name": "python3"
  },
  "language_info": {
   "codemirror_mode": {
    "name": "ipython",
    "version": 3
   },
   "file_extension": ".py",
   "mimetype": "text/x-python",
   "name": "python",
   "nbconvert_exporter": "python",
   "pygments_lexer": "ipython3",
   "version": "3.9.6 (default, Oct 18 2022, 12:41:40) \n[Clang 14.0.0 (clang-1400.0.29.202)]"
  },
  "vscode": {
   "interpreter": {
    "hash": "4296b4fafe660374de92932bb0da53de10f2227b8dd13641ba3ad9034bf95694"
   }
  }
 },
 "nbformat": 4,
 "nbformat_minor": 4
}
